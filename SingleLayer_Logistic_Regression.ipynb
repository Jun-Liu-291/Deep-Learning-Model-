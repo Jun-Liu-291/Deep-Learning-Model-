{
  "nbformat": 4,
  "nbformat_minor": 0,
  "metadata": {
    "colab": {
      "name": "SingleLayer-Logistic-Regression.ipynb",
      "provenance": [],
      "collapsed_sections": [],
      "authorship_tag": "ABX9TyN1WPo8/qGwm9qM0Dp1aFzu",
      "include_colab_link": true
    },
    "kernelspec": {
      "name": "python3",
      "display_name": "Python 3"
    }
  },
  "cells": [
    {
      "cell_type": "markdown",
      "metadata": {
        "id": "view-in-github",
        "colab_type": "text"
      },
      "source": [
        "<a href=\"https://colab.research.google.com/github/Jun-Liu-291/Deep-Learning-Model-/blob/master/SingleLayer_Logistic_Regression.ipynb\" target=\"_parent\"><img src=\"https://colab.research.google.com/assets/colab-badge.svg\" alt=\"Open In Colab\"/></a>"
      ]
    },
    {
      "cell_type": "code",
      "metadata": {
        "id": "Mwf3B4oFqG-I",
        "colab_type": "code",
        "colab": {}
      },
      "source": [
        "import numpy as np\n",
        "import matplotlib.pyplot as plt\n",
        "import h5py\n",
        "import scipy\n",
        "from PIL import Image\n",
        "from scipy import ndimage\n",
        "from tensorflow import keras\n",
        "\n",
        "%matplotlib inline\n",
        "np.random.seed(1)"
      ],
      "execution_count": null,
      "outputs": []
    },
    {
      "cell_type": "code",
      "metadata": {
        "id": "4WWPs1HQR8yS",
        "colab_type": "code",
        "colab": {
          "base_uri": "https://localhost:8080/",
          "height": 54
        },
        "outputId": "09091dab-f8ad-466a-a0b7-a2dad966e9e6"
      },
      "source": [
        "from google.colab import drive\n",
        "drive.mount('/content/drive/')"
      ],
      "execution_count": null,
      "outputs": [
        {
          "output_type": "stream",
          "text": [
            "Drive already mounted at /content/drive/; to attempt to forcibly remount, call drive.mount(\"/content/drive/\", force_remount=True).\n"
          ],
          "name": "stdout"
        }
      ]
    },
    {
      "cell_type": "code",
      "metadata": {
        "id": "pgnSCdA2IGZw",
        "colab_type": "code",
        "colab": {
          "base_uri": "https://localhost:8080/",
          "height": 85
        },
        "outputId": "b8ff5144-2364-45fe-de3e-b8fe06ee936d"
      },
      "source": [
        "# load training set & test set\n",
        "import os\n",
        "from keras.preprocessing import image\n",
        "\n",
        "base_path = '/content/drive/My Drive/dataset/cats&dogs/small_dataset'\n",
        "train_path = os.path.join(base_path, 'train')\n",
        "test_path = os.path.join(base_path, 'test')\n",
        "\n",
        "def get_data_labels(data_path, num):\n",
        "  data = []\n",
        "  labels = []\n",
        "  i = 0\n",
        "  for ani_name in os.listdir(data_path):\n",
        "    temp_list = os.listdir(os.path.join(data_path, ani_name))\n",
        "\n",
        "    for fn in temp_list[:num]:\n",
        "      labels.append(i)\n",
        "      img = image.load_img(os.path.join(data_path, ani_name, fn), target_size=(64, 64))\n",
        "\n",
        "      x = image.img_to_array(img)\n",
        "      data.append(x)\n",
        "    i += 1\n",
        "  \n",
        "  return data, labels\n",
        "\n",
        "x_train, y_train = get_data_labels(train_path, 256)\n",
        "x_test, y_test = get_data_labels(test_path, 64)\n",
        "x_train = np.array(x_train)\n",
        "y_train = np.array(y_train)\n",
        "x_test = np.array(x_test)\n",
        "y_test = np.array(y_test)\n",
        "\n",
        "print('Traning data shape is: ', x_train.shape)\n",
        "print('Traning labels shape is: ', y_train.shape)\n",
        "print('Test data shape is: ', x_test.shape)\n",
        "print('Test labels shape is: ', y_test.shape)"
      ],
      "execution_count": null,
      "outputs": [
        {
          "output_type": "stream",
          "text": [
            "Traning data shape is:  (512, 64, 64, 3)\n",
            "Traning labels shape is:  (512,)\n",
            "Test data shape is:  (128, 64, 64, 3)\n",
            "Test labels shape is:  (128,)\n"
          ],
          "name": "stdout"
        }
      ]
    },
    {
      "cell_type": "code",
      "metadata": {
        "id": "xc0W2S6MZck0",
        "colab_type": "code",
        "colab": {
          "base_uri": "https://localhost:8080/",
          "height": 34
        },
        "outputId": "8d960d84-8fb5-49b3-b2c2-cef8d4292f27"
      },
      "source": [
        "print(x_train[1].shape)"
      ],
      "execution_count": null,
      "outputs": [
        {
          "output_type": "stream",
          "text": [
            "(64, 64, 3)\n"
          ],
          "name": "stdout"
        }
      ]
    },
    {
      "cell_type": "code",
      "metadata": {
        "id": "bU0bPYtDVNba",
        "colab_type": "code",
        "colab": {
          "base_uri": "https://localhost:8080/",
          "height": 51
        },
        "outputId": "bbdc0067-da32-45bc-ca8f-cf065ad8807d"
      },
      "source": [
        "# shuffle the Training data\n",
        "def shuffle_data(X, Y):\n",
        "\n",
        "  indices = np.array(range(X.shape[0]))\n",
        "  import random\n",
        "  random.shuffle(indices)\n",
        "  image = np.zeros(X.shape)\n",
        "  labels = np.zeros(Y.shape)\n",
        "  for i in range(X.shape[0]):\n",
        "    image[i] = X[indices[i]]\n",
        "    labels[i] = Y[indices[i]]\n",
        "  return image, labels\n",
        "\n",
        "x_train, y_train = shuffle_data(x_train, y_train)\n",
        "\n",
        "print('Traning data shape is: ', x_train.shape)\n",
        "print('Traning labels shape is: ', y_train.shape)\n"
      ],
      "execution_count": null,
      "outputs": [
        {
          "output_type": "stream",
          "text": [
            "Traning data shape is:  (210, 64, 64, 3)\n",
            "Traning labels shape is:  (210,)\n"
          ],
          "name": "stdout"
        }
      ]
    },
    {
      "cell_type": "code",
      "metadata": {
        "id": "xqRNNj1kIkC-",
        "colab_type": "code",
        "colab": {
          "base_uri": "https://localhost:8080/",
          "height": 302
        },
        "outputId": "b7c54288-fc93-426f-c162-5ccdcac6c22e"
      },
      "source": [
        "# Example of a picture\n",
        "index = 100\n",
        "plt.imshow(image.array_to_img(x_train[index]))\n",
        "print (\"y = \", str(y_train[index]))\n",
        "if(y_train[index] == 0): \n",
        "  print('This is a dog')\n",
        "else:\n",
        "  print('This is a cat')"
      ],
      "execution_count": null,
      "outputs": [
        {
          "output_type": "stream",
          "text": [
            "y =  0\n",
            "This is a dog\n"
          ],
          "name": "stdout"
        },
        {
          "output_type": "display_data",
          "data": {
            "image/png": "[encoded data removed]",
            "text/plain": [
              "<Figure size 432x288 with 1 Axes>"
            ]
          },
          "metadata": {
            "tags": [],
            "needs_background": "light"
          }
        }
      ]
    },
    {
      "cell_type": "code",
      "metadata": {
        "id": "Aw_JGnY9JvHo",
        "colab_type": "code",
        "colab": {
          "base_uri": "https://localhost:8080/",
          "height": 153
        },
        "outputId": "1e3c283e-f809-48a7-d6d1-7770c7eb0eca"
      },
      "source": [
        "# Flatten data and labels\n",
        "m_train = x_train.shape[0]\n",
        "m_test = x_test.shape[0]\n",
        "num_px = x_test.shape[1]\n",
        "\n",
        "data_train = x_train.reshape(x_train.shape[0], -1).T\n",
        "data_test = x_test.reshape(x_test.shape[0], -1).T\n",
        "\n",
        "labels_test = y_test.reshape(1, m_test)\n",
        "labels_train = y_train.reshape(1, m_train)\n",
        "\n",
        "print (\"Number of training examples: m_train = \" + str(m_train))\n",
        "print (\"Number of testing examples: m_test = \" + str(m_test))\n",
        "print (\"Height/Width of each image: num_px = \" + str(num_px))\n",
        "print (\"Each image is of size: (\" + str(num_px) + \", \" + str(num_px) + \", 3)\")\n",
        "print (\"train_set_x shape: \" + str(data_train.shape))\n",
        "print (\"train_set_y shape: \" + str(labels_train.shape))\n",
        "print (\"test_set_x shape: \" + str(data_test.shape))\n",
        "print (\"test_set_y shape: \" + str(labels_test.shape))"
      ],
      "execution_count": null,
      "outputs": [
        {
          "output_type": "stream",
          "text": [
            "Number of training examples: m_train = 512\n",
            "Number of testing examples: m_test = 128\n",
            "Height/Width of each image: num_px = 64\n",
            "Each image is of size: (64, 64, 3)\n",
            "train_set_x shape: (12288, 512)\n",
            "train_set_y shape: (1, 512)\n",
            "test_set_x shape: (12288, 128)\n",
            "test_set_y shape: (1, 128)\n"
          ],
          "name": "stdout"
        }
      ]
    },
    {
      "cell_type": "code",
      "metadata": {
        "id": "qXT5w18sOR-o",
        "colab_type": "code",
        "colab": {}
      },
      "source": [
        "# rescale input data in (0,1)\n",
        "data_test = data_test/255\n",
        "data_train = data_train/255\n"
      ],
      "execution_count": null,
      "outputs": []
    },
    {
      "cell_type": "code",
      "metadata": {
        "id": "hs0mHjjiqTFU",
        "colab_type": "code",
        "colab": {}
      },
      "source": [
        "# define activation function\n",
        "def sigmoid(x):\n",
        "  sol = 1.0 / (1.0 + np.exp(-x))\n",
        "  return sol\n",
        "\n",
        "def relu(x):\n",
        "  sol = np.maximum(0, x)\n",
        "  return sol\n",
        "\n",
        "def softmax(x):\n",
        "  x_exp = np.exp(x)\n",
        "  x_sum = np.sum(x_exp, axis = 1, keepdims = True)\n",
        "  s = x_exp / x_sum"
      ],
      "execution_count": null,
      "outputs": []
    },
    {
      "cell_type": "code",
      "metadata": {
        "id": "dPto11mGOe7F",
        "colab_type": "code",
        "colab": {}
      },
      "source": [
        "# initialize bias and weights\n",
        "def initialize_parameters(dim):\n",
        "  w = np.random.randn(dim, 1) * 0.01\n",
        "  b = 0\n",
        "  return w, b"
      ],
      "execution_count": null,
      "outputs": []
    },
    {
      "cell_type": "code",
      "metadata": {
        "id": "s5kpSpoRQVja",
        "colab_type": "code",
        "colab": {
          "base_uri": "https://localhost:8080/",
          "height": 204
        },
        "outputId": "ad7f3b82-5776-46ee-e6cc-f83a1cc35088"
      },
      "source": [
        "dim = 10\n",
        "w, b = initialize_parameters(dim)\n",
        "print(w)\n",
        "print(b)"
      ],
      "execution_count": null,
      "outputs": [
        {
          "output_type": "stream",
          "text": [
            "[[ 0.01624345]\n",
            " [-0.00611756]\n",
            " [-0.00528172]\n",
            " [-0.01072969]\n",
            " [ 0.00865408]\n",
            " [-0.02301539]\n",
            " [ 0.01744812]\n",
            " [-0.00761207]\n",
            " [ 0.00319039]\n",
            " [-0.0024937 ]]\n",
            "0\n"
          ],
          "name": "stdout"
        }
      ]
    },
    {
      "cell_type": "code",
      "metadata": {
        "id": "b8Jx2gKcQd7h",
        "colab_type": "code",
        "colab": {}
      },
      "source": [
        "# forward propagation\n",
        "def propagate(w, b, X, Y):\n",
        "  # number of input data m\n",
        "  m = X.shape[1]\n",
        "\n",
        "  # forward propagation\n",
        "  Act = sigmoid(np.dot(w.T, X) + b)\n",
        "  cost = - (np.sum(Y * np.log(Act) + (1 - Y) * (np.log(1 - Act))) / m)\n",
        "  # backward propagation\n",
        "  dw = np.dot(X, (Act-Y).T) / m\n",
        "  db = np.sum(Act-Y) / m\n",
        "\n",
        "  assert(dw.shape == w.shape)\n",
        "  assert(db.dtype == float)\n",
        "  cost = np.squeeze(cost)\n",
        "  assert(cost.shape == ())\n",
        "\n",
        "  grads = {\"dw\": dw,\n",
        "           \"db\": db}\n",
        "\n",
        "  return grads, cost"
      ],
      "execution_count": null,
      "outputs": []
    },
    {
      "cell_type": "code",
      "metadata": {
        "id": "AMN_tNVff1-8",
        "colab_type": "code",
        "colab": {}
      },
      "source": [
        "# define optimize function\n",
        "\n",
        "def optimize(w, b, X, Y, num_iterations, learning_rate, print_cost = False):\n",
        "  costs = []\n",
        "\n",
        "  for i in range(num_iterations):\n",
        "    grads, cost = propagate(w, b, X, Y)\n",
        "    dw = grads[\"dw\"]\n",
        "    db = grads[\"db\"]\n",
        "\n",
        "    # update w and b\n",
        "    w = w - learning_rate * dw\n",
        "    b = b - learning_rate * db \n",
        "\n",
        "    # record cost objective\n",
        "    if(i % 100 == 0):\n",
        "      costs.append(cost)\n",
        "    # print status\n",
        "    if print_cost and i%100 == 0:\n",
        "      print(\"Cost objective after %i iteration: %f\" % (i, cost))\n",
        "\n",
        "  params = {\"w\": w,\n",
        "            \"b\": b}\n",
        "  grads = {\"dw\": dw,\n",
        "           \"db\": db}\n",
        "  return params, grads, costs"
      ],
      "execution_count": null,
      "outputs": []
    },
    {
      "cell_type": "code",
      "metadata": {
        "id": "RQQ2SjUChD8a",
        "colab_type": "code",
        "colab": {}
      },
      "source": [
        "# define predict function\n",
        "def predict(w, b, X):\n",
        "\n",
        "  m = X.shape[1]\n",
        "\n",
        "  Yhat = np.zeros((1, m))\n",
        "\n",
        "  w = w.reshape(X.shape[0], 1)\n",
        "\n",
        "  Act = sigmoid(np.dot(w.T, X) + b)\n",
        "\n",
        "  for i in range(Act.shape[1]):\n",
        "    Yhat[0, i] = 1 if(Act[0, i] > 0.5) else 0\n",
        "\n",
        "  assert(Yhat.shape == (1, m))\n",
        "\n",
        "  return Yhat"
      ],
      "execution_count": null,
      "outputs": []
    },
    {
      "cell_type": "code",
      "metadata": {
        "id": "TYmXrr0hh8_V",
        "colab_type": "code",
        "colab": {}
      },
      "source": [
        "# build the model\n",
        "def model(Train_data, Train_labels, Test_data, Test_labels, num_iterations = 2000, learning_rate = 0.1, print_cost=False):\n",
        "  # initialize parameter w and b\n",
        "  w, b = initialize_parameters(Train_data.shape[0])\n",
        "\n",
        "  # Gradient descent\n",
        "  parameters, grads, costs = optimize(w, b, Train_data, Train_labels, num_iterations, learning_rate, print_cost)\n",
        "\n",
        "  # get trained w and b\n",
        "  w = parameters[\"w\"]\n",
        "  b = parameters[\"b\"]\n",
        "\n",
        "  # get prediction on Test_data & Train_data\n",
        "  Yhat_test = predict(w, b, Test_data)\n",
        "  Yhat_train = predict(w, b, Train_data)\n",
        "\n",
        "  # Print train/test Errors\n",
        "  print(\"train accuracy: {}\".format(100 - np.mean(np.abs(Yhat_train - Train_labels)) * 100))\n",
        "  print(\"test accuracy: {}\".format(100 - np.mean(np.abs(Yhat_test - Test_labels)) * 100))\n",
        "\n",
        "\n",
        "  # save results\n",
        "  d = {\"costs\": costs,\n",
        "         \"Yhat_test\": Yhat_test, \n",
        "         \"Yhat_train\" : Yhat_train, \n",
        "         \"w\" : w, \n",
        "         \"b\" : b,\n",
        "         \"learning_rate\" : learning_rate,\n",
        "         \"num_iterations\": num_iterations}\n",
        "    \n",
        "  return d"
      ],
      "execution_count": null,
      "outputs": []
    },
    {
      "cell_type": "code",
      "metadata": {
        "id": "oMo_ZmQwjox4",
        "colab_type": "code",
        "colab": {
          "base_uri": "https://localhost:8080/",
          "height": 391
        },
        "outputId": "3eda5491-64b4-4a6f-feb2-5b9958c88b7b"
      },
      "source": [
        "d = model(data_train, labels_train, data_test, labels_test, num_iterations = 2000, learning_rate = 0.005, print_cost = True)"
      ],
      "execution_count": null,
      "outputs": [
        {
          "output_type": "stream",
          "text": [
            "Cost objective after 0 iteration: 0.698240\n",
            "Cost objective after 100 iteration: 1.179722\n",
            "Cost objective after 200 iteration: 1.041912\n",
            "Cost objective after 300 iteration: 0.936840\n",
            "Cost objective after 400 iteration: 0.848466\n",
            "Cost objective after 500 iteration: 0.770917\n",
            "Cost objective after 600 iteration: 0.701600\n",
            "Cost objective after 700 iteration: 0.639008\n",
            "Cost objective after 800 iteration: 0.582094\n",
            "Cost objective after 900 iteration: 0.530092\n",
            "Cost objective after 1000 iteration: 0.482398\n",
            "Cost objective after 1100 iteration: 0.438485\n",
            "Cost objective after 1200 iteration: 0.397877\n",
            "Cost objective after 1300 iteration: 0.360253\n",
            "Cost objective after 1400 iteration: 0.325844\n",
            "Cost objective after 1500 iteration: 0.297020\n",
            "Cost objective after 1600 iteration: 0.280053\n",
            "Cost objective after 1700 iteration: 0.271433\n",
            "Cost objective after 1800 iteration: 0.263882\n",
            "Cost objective after 1900 iteration: 0.256772\n",
            "train accuracy: 95.703125\n",
            "test accuracy: 44.53125\n"
          ],
          "name": "stdout"
        }
      ]
    },
    {
      "cell_type": "code",
      "metadata": {
        "id": "CSpr1lMYj6Jg",
        "colab_type": "code",
        "colab": {
          "base_uri": "https://localhost:8080/",
          "height": 54
        },
        "outputId": "87e70456-5c41-4a73-cb05-9adedbe24369"
      },
      "source": [
        "print(d[\"costs\"])"
      ],
      "execution_count": null,
      "outputs": [
        {
          "output_type": "stream",
          "text": [
            "[0.6931471805599453, 0.9570653919665444, 0.7554134213464044, 0.5841058675097154, 0.4286690619020384, 0.2960032536718339, 0.26141523002418954, 0.2415925177280912, 0.22453761100499547, 0.20965582462649449, 0.1965381273362623, 0.18488141188817797, 0.17445235123800765, 0.16506687464938352, 0.1565771026803259, 0.14886247839356975, 0.14182350104795116, 0.1353771730803788, 0.12945361969180816, 0.12399353345239365]\n"
          ],
          "name": "stdout"
        }
      ]
    },
    {
      "cell_type": "code",
      "metadata": {
        "id": "xD7QshjVnJ9w",
        "colab_type": "code",
        "colab": {
          "base_uri": "https://localhost:8080/",
          "height": 295
        },
        "outputId": "4a103000-1796-444c-8a0c-2bef1319d5e0"
      },
      "source": [
        "# Plot learning curve (with costs)\n",
        "costs = np.squeeze(d['costs'])\n",
        "plt.plot(costs)\n",
        "plt.ylabel('cost')\n",
        "plt.xlabel('iterations (per hundreds)')\n",
        "plt.title(\"Learning rate =\" + str(d[\"learning_rate\"]))\n",
        "plt.show()"
      ],
      "execution_count": null,
      "outputs": [
        {
          "output_type": "display_data",
          "data": {
            "image/png": "[encoded data removed]",
            "text/plain": [
              "<Figure size 432x288 with 1 Axes>"
            ]
          },
          "metadata": {
            "tags": [],
            "needs_background": "light"
          }
        }
      ]
    },
    {
      "cell_type": "code",
      "metadata": {
        "id": "K-8Nsw4-swIl",
        "colab_type": "code",
        "colab": {}
      },
      "source": [
        ""
      ],
      "execution_count": null,
      "outputs": []
    }
  ]
}