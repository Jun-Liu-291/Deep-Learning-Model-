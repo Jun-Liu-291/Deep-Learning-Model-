{
  "nbformat": 4,
  "nbformat_minor": 0,
  "metadata": {
    "colab": {
      "name": "Muli-layers-Logistic-Regression.ipynb",
      "provenance": [],
      "collapsed_sections": [],
      "authorship_tag": "ABX9TyO1VaEc+E4masdXqBEFpoU2",
      "include_colab_link": true
    },
    "kernelspec": {
      "name": "python3",
      "display_name": "Python 3"
    },
    "accelerator": "GPU"
  },
  "cells": [
    {
      "cell_type": "markdown",
      "metadata": {
        "id": "view-in-github",
        "colab_type": "text"
      },
      "source": [
        "<a href=\"https://colab.research.google.com/github/Jun-Liu-291/Deep-Learning-Model-/blob/master/Muli_layers_Logistic_Regression.ipynb\" target=\"_parent\"><img src=\"https://colab.research.google.com/assets/colab-badge.svg\" alt=\"Open In Colab\"/></a>"
      ]
    },
    {
      "cell_type": "code",
      "metadata": {
        "id": "ciMWMFOURGte",
        "colab_type": "code",
        "colab": {}
      },
      "source": [
        "import numpy as np\n",
        "import h5py\n",
        "import matplotlib.pyplot as plt\n",
        "\n",
        "%matplotlib inline\n",
        "plt.rcParams['figure.figsize'] = (5.0, 4.0) # set default size of plots\n",
        "plt.rcParams['image.interpolation'] = 'nearest'\n",
        "plt.rcParams['image.cmap'] = 'gray'\n",
        "\n",
        "%load_ext autoreload\n",
        "%autoreload 2\n",
        "\n",
        "np.random.seed(1)"
      ],
      "execution_count": 1,
      "outputs": []
    },
    {
      "cell_type": "code",
      "metadata": {
        "id": "HdXugUMW_E15",
        "colab_type": "code",
        "colab": {}
      },
      "source": [
        "def initialize_parameters(list_dimension):\n",
        "  '''\n",
        "  list_dimension[0]    -->  The size of the input data\n",
        "  list_dimension[-1]   -->  The size of the output Y\n",
        "  list_dimension[1:-1] -->  If there are hidden layers, the size for each hidden layers\n",
        "\n",
        "  return:\n",
        "  Parameters {\"W1\", \"b1\", ---, }\n",
        "  '''\n",
        "  np.random.seed(1)\n",
        "\n",
        "  # initialize output dictionary\n",
        "  parameters = {}\n",
        "  num_layers = len(list_dimension) - 1\n",
        "\n",
        "  for i in range(num_layers):\n",
        "    temp_W = np.random.randn(list_dimension[i+1], list_dimension[i]) * 0.01\n",
        "    temp_b = np.zeros((list_dimension[i+1], 1))\n",
        "\n",
        "    parameters[\"W\"+str(i+1)] = temp_W\n",
        "    parameters[\"b\"+str(i+1)] = temp_b\n",
        "\n",
        "    assert(parameters['W' + str(i+1)].shape == (list_dimension[i+1], list_dimension[i]))\n",
        "    assert(parameters['b' + str(i+1)].shape == (list_dimension[i+1], 1))\n",
        "  \n",
        "  return parameters"
      ],
      "execution_count": 2,
      "outputs": []
    },
    {
      "cell_type": "code",
      "metadata": {
        "id": "_QR194WxU-9o",
        "colab_type": "code",
        "colab": {
          "base_uri": "https://localhost:8080/",
          "height": 170
        },
        "outputId": "d247c79c-3fd0-436c-f707-41c6005d8118"
      },
      "source": [
        "# test initialize_parameters function\n",
        "temp_P = initialize_parameters([4, 3, 3, 1])\n",
        "\n",
        "print(str(temp_P))"
      ],
      "execution_count": 3,
      "outputs": [
        {
          "output_type": "stream",
          "text": [
            "{'W1': array([[ 0.01624345, -0.00611756, -0.00528172, -0.01072969],\n",
            "       [ 0.00865408, -0.02301539,  0.01744812, -0.00761207],\n",
            "       [ 0.00319039, -0.0024937 ,  0.01462108, -0.02060141]]), 'b1': array([[0.],\n",
            "       [0.],\n",
            "       [0.]]), 'W2': array([[-0.00322417, -0.00384054,  0.01133769],\n",
            "       [-0.01099891, -0.00172428, -0.00877858],\n",
            "       [ 0.00042214,  0.00582815, -0.01100619]]), 'b2': array([[0.],\n",
            "       [0.],\n",
            "       [0.]]), 'W3': array([[0.01144724, 0.00901591, 0.00502494]]), 'b3': array([[0.]])}\n"
          ],
          "name": "stdout"
        }
      ]
    },
    {
      "cell_type": "code",
      "metadata": {
        "id": "Es3yTQCSVRyc",
        "colab_type": "code",
        "colab": {}
      },
      "source": [
        "# forward propagation module\n",
        "\n",
        "# define linear forward propagation function\n",
        "def linear_forward_propagation(A, W, b):\n",
        "  '''\n",
        "  A      --> activation from previous layer/ input data\n",
        "  W      --> Weight of current layer\n",
        "  b      --> Bias of current layer\n",
        "\n",
        "  return:\n",
        "  Z      --> Result of linear forward propagation\n",
        "  cache  --> A python list containing \"A\", \"W\", \"b\" for backward pass efficiently\n",
        "  '''\n",
        "\n",
        "  Z = np.dot(W, A) + b\n",
        "\n",
        "  assert(Z.shape == (W.shape[0], A.shape[1]))\n",
        "  cache = (A, W, b)\n",
        "\n",
        "  return Z, cache\n"
      ],
      "execution_count": 4,
      "outputs": []
    },
    {
      "cell_type": "code",
      "metadata": {
        "id": "ppgfml-2emZo",
        "colab_type": "code",
        "colab": {}
      },
      "source": [
        "# define activation function\n",
        "def sigmoid(x):\n",
        "  sol = 1.0 / (1.0 + np.exp(-x))\n",
        "  cache = x\n",
        "\n",
        "  return sol, cache\n",
        "\n",
        "def relu(x):\n",
        "  sol = np.maximum(0, x)\n",
        "  cache = x\n",
        "\n",
        "  return sol, cache\n",
        "\n",
        "def relu_backward(dA, cache):\n",
        "    \"\"\"\n",
        "    Implement the backward propagation for a single RELU unit.\n",
        "\n",
        "    Arguments:\n",
        "    dA -- post-activation gradient, of any shape\n",
        "    cache -- 'Z' where we store for computing backward propagation efficiently\n",
        "\n",
        "    Returns:\n",
        "    dZ -- Gradient of the cost with respect to Z\n",
        "    \"\"\"\n",
        "\n",
        "    Z = cache\n",
        "    dZ = np.array(dA, copy=True) # just converting dz to a correct object.\n",
        "\n",
        "    # When z <= 0, you should set dz to 0 as well. \n",
        "    dZ[Z <= 0] = 0\n",
        "\n",
        "    assert (dZ.shape == Z.shape)\n",
        "\n",
        "    return dZ\n",
        "\n",
        "def sigmoid_backward(dA, cache):\n",
        "    \"\"\"\n",
        "    Implement the backward propagation for a single SIGMOID unit.\n",
        "\n",
        "    Arguments:\n",
        "    dA -- post-activation gradient, of any shape\n",
        "    cache -- 'Z' where we store for computing backward propagation efficiently\n",
        "\n",
        "    Returns:\n",
        "    dZ -- Gradient of the cost with respect to Z\n",
        "    \"\"\"\n",
        "\n",
        "    Z = cache\n",
        "\n",
        "    s = 1/(1+np.exp(-Z))\n",
        "    dZ = dA * s * (1-s)\n",
        "\n",
        "    assert (dZ.shape == Z.shape)\n",
        "\n",
        "    return dZ\n",
        "def softmax(x):\n",
        "  x_exp = np.exp(x)\n",
        "  x_sum = np.sum(x_exp, axis = 1, keepdims = True)\n",
        "  s = x_exp / x_sum"
      ],
      "execution_count": 5,
      "outputs": []
    },
    {
      "cell_type": "code",
      "metadata": {
        "id": "bnzjm-eKfCVr",
        "colab_type": "code",
        "colab": {}
      },
      "source": [
        "# activation function combine with linear forward propagation\n",
        "def linear_activation_propagation(A_prev, W, b, activation):\n",
        "  '''\n",
        "  activation --> 2020-07-03 \"sigmoid\" or \"relu\"\n",
        "  '''\n",
        "\n",
        "  # get linear forward propagation Z and linear_cache\n",
        "  Z, linear_cache = linear_forward_propagation(A_prev, W, b)\n",
        "\n",
        "  # get the result of activation and activation_cache\n",
        "  if(activation == \"sigmoid\"):\n",
        "    A, activation_cache = sigmoid(Z)\n",
        "  elif(activation == \"relu\"):\n",
        "    A, activation_cache = relu(Z)\n",
        "\n",
        "  assert (A.shape == (W.shape[0], A_prev.shape[1]))\n",
        "  cache = (linear_cache, activation_cache)\n",
        "\n",
        "  return A, cache"
      ],
      "execution_count": 6,
      "outputs": []
    },
    {
      "cell_type": "code",
      "metadata": {
        "id": "llMKIgbPhQzG",
        "colab_type": "code",
        "colab": {}
      },
      "source": [
        "# Whole procesure of forward propogation of our Model\n",
        "def whole_model_forward(X, parameters):\n",
        "  '''\n",
        "  All the activation function of each layers (except last layer) are \"relu\"\n",
        "  Last layer's activation is \"sigmoid\"\n",
        "\n",
        "  input:\n",
        "  X          --> Input data, numpy array of shape (input size, number of examples)\n",
        "  parameters --> output of initialize_parameters\n",
        "\n",
        "  return:\n",
        "  AL         --> last post-activation value\n",
        "  caches     --> list of caches containing:\n",
        "                  every cache of linear_relu_forward() (there are len-1 of them, indexed from 0 to L-2)\n",
        "                  the cache of linear_sigmoid_forward() (there is one, indexed len-1)\n",
        "  '''\n",
        "  caches = []\n",
        "  A = X\n",
        "  L = len(parameters) // 2  \n",
        "\n",
        "  for l in range(1, L):\n",
        "    A_prev = A\n",
        "\n",
        "    A, cache = linear_activation_propagation(A_prev, \n",
        "                                             parameters[\"W\"+str(l)], \n",
        "                                             parameters[\"b\"+str(l)], \n",
        "                                             activation = 'relu')\n",
        "    caches.append(cache)\n",
        "  \n",
        "  AL, cache = linear_activation_propagation(A, \n",
        "                                            parameters[\"W\"+str(L)], \n",
        "                                            parameters[\"b\"+str(L)], \n",
        "                                            activation = 'sigmoid')\n",
        "  caches.append(cache)\n",
        "\n",
        "  # 2020-07-03 logistic regressiong only\n",
        "  assert (AL.shape == (1, X.shape[1]))\n",
        "\n",
        "  return AL, caches"
      ],
      "execution_count": 7,
      "outputs": []
    },
    {
      "cell_type": "code",
      "metadata": {
        "id": "gbzGacZAmouc",
        "colab_type": "code",
        "colab": {}
      },
      "source": [
        "# define compute_cost function\n",
        "def compute_cost(AL, Y):\n",
        "  '''\n",
        "  input:\n",
        "  AL --> prediction, output of whole_model_forward\n",
        "  Y  --> Ground truth label of train data\n",
        "\n",
        "  output:\n",
        "  cost  --> loss function\n",
        "  '''\n",
        "\n",
        "  m = Y.shape[1]\n",
        "\n",
        "  cost = - np.sum(np.dot(Y, np.log(AL.T)) + np.dot(1-Y, np.log(1-AL.T))) / m\n",
        "  # make sure the cost's shape is a scaler\n",
        "  cost = np.squeeze(cost)\n",
        "\n",
        "  assert (cost.shape == ())\n",
        "\n",
        "  return cost\n"
      ],
      "execution_count": 8,
      "outputs": []
    },
    {
      "cell_type": "code",
      "metadata": {
        "id": "ck0H-gOKnzyf",
        "colab_type": "code",
        "colab": {}
      },
      "source": [
        "# define linear_back function\n",
        "def linear_backward(dZ, cache):\n",
        "  '''\n",
        "  input:\n",
        "  dZ    --> Gradient of the loss function (cost) with repect to the linear output of current layer L\n",
        "  cache --> tuple of values (A_prev, W, b), obtain through linear_forward_propagation function\n",
        "\n",
        "  returns:\n",
        "  dA_prev --> Gradient of the loss function (cost) with repect to the previous layer's activation\n",
        "  dW      --> Gradient of the loss function (cost) with repect to the weight W\n",
        "  db      --> Gradient of the loss function (cost) with repect to the bias b\n",
        "  '''\n",
        "\n",
        "  A_prev, W, b = cache\n",
        "  m = A_prev.shape[1]\n",
        "\n",
        "  dW = np.dot(dZ, A_prev.T) / m\n",
        "  db = np.sum(dZ, axis = 1, keepdims = True) / m\n",
        "  dA_prev = np.dot(W.T, dZ)\n",
        "\n",
        "  assert (dA_prev.shape == A_prev.shape)\n",
        "  assert (dW.shape == W.shape)\n",
        "  assert (db.shape == b.shape)\n",
        "\n",
        "  return dA_prev, dW, db"
      ],
      "execution_count": 9,
      "outputs": []
    },
    {
      "cell_type": "code",
      "metadata": {
        "id": "mbZhJC7PsuJe",
        "colab_type": "code",
        "colab": {}
      },
      "source": [
        "# define Linear activation backward function\n",
        "def linear_activation_backward(dA, cache, activation):\n",
        "  '''\n",
        "  input:\n",
        "  dA         --> Gradient of the loss function (cost) with repect to the activation output \n",
        "  cache      --> tuple of values (linear_cache, activation_cache) we store for computing backward propagation efficiently\n",
        "  activation --> \"sigmoid\" or \"relu\"\n",
        "\n",
        "  return:\n",
        "  same as linear_backward\n",
        "  '''\n",
        "\n",
        "  linear_cache, activation_cache = cache\n",
        "\n",
        "  dZ_temp = np.zeros(dA.shape)\n",
        "  if activation == 'relu':\n",
        "    dZ_temp = relu_backward(dA, activation_cache)\n",
        "    dA_prev, dW, db = linear_backward(dZ_temp, linear_cache)\n",
        "  elif activation == 'sigmoid':\n",
        "    dZ_temp = sigmoid_backward(dA, activation_cache)\n",
        "    dA_prev, dW, db = linear_backward(dZ_temp, linear_cache)\n",
        "\n",
        "  \n",
        "\n",
        "  return dA_prev, dW, db\n"
      ],
      "execution_count": 10,
      "outputs": []
    },
    {
      "cell_type": "code",
      "metadata": {
        "id": "ijABbkBnur2M",
        "colab_type": "code",
        "colab": {}
      },
      "source": [
        "# Whole procesure of backward propogation of our Model\n",
        "def whole_model_backward(AL, Y, caches):\n",
        "  '''\n",
        "  input:\n",
        "  AL     --> Output of final layer\n",
        "  Y      --> Ground truth label of input training data\n",
        "  caches --> output of whole_model_forward function, record every linear_cache and activation_cache\n",
        "             through forward propogation\n",
        "\n",
        "  returns:\n",
        "  grads  --> A dictionary with the gradients \"dA1\" \"dW1\" \"db1\" ....\n",
        "  '''\n",
        "\n",
        "  grads = {}\n",
        "  L = len(caches) # the number of layers\n",
        "  m = AL.shape[1] # the number of input data\n",
        "  Y = Y.reshape(AL.shape)\n",
        "\n",
        "  dAL = - (np.divide(Y, AL) - np.divide(1 - Y, 1 - AL))\n",
        "\n",
        "  current_cache = caches[-1]\n",
        "  grads[\"dA\"+str(L)], grads[\"dW\"+str(L)], grads[\"db\"+str(L)] = linear_activation_backward(dAL, current_cache, 'sigmoid')\n",
        "  \n",
        "  for l in reversed(range(L-1)):\n",
        "    current_cache = caches[l]\n",
        "    temp_dA_prev, temp_dW, temp_db = linear_activation_backward(grads['dA'+str(l+2)], current_cache, 'relu')\n",
        "    grads[\"dA\" + str(l + 1)] = temp_dA_prev\n",
        "    grads[\"dW\" + str(l + 1)] = temp_dW\n",
        "    grads[\"db\" + str(l + 1)] = temp_db\n",
        "\n",
        "  return grads"
      ],
      "execution_count": 11,
      "outputs": []
    },
    {
      "cell_type": "code",
      "metadata": {
        "id": "L_chK1FC3HiV",
        "colab_type": "code",
        "colab": {}
      },
      "source": [
        "# define update parameters\n",
        "def updata_parameters(parameters, grads, learning_rate):\n",
        "  '''\n",
        "  input:\n",
        "  parameters --> containing all W and b, initialized by initialize_parameters function\n",
        "  grads      --> gradient obtained by whole_model_backward\n",
        "  learning_rate\n",
        "\n",
        "  returns:\n",
        "  parameters\n",
        "  '''\n",
        "\n",
        "  L = len(parameters) // 2\n",
        "\n",
        "  for l in range(L):\n",
        "    parameters[\"W\" + str(l+1)] =parameters[\"W\" + str(l+1)]-learning_rate*grads[\"dW\" + str(l+1)]\n",
        "    parameters[\"b\" + str(l+1)] =parameters[\"b\" + str(l+1)]-learning_rate*grads[\"db\" + str(l+1)]\n",
        "\n",
        "  return parameters"
      ],
      "execution_count": 12,
      "outputs": []
    },
    {
      "cell_type": "code",
      "metadata": {
        "id": "djcuidwP5mAz",
        "colab_type": "code",
        "colab": {}
      },
      "source": [
        "# define optimize function\n",
        "def optimize(parameters, X, Y, num_iterations, learning_rate, print_cost = False):\n",
        "  costs = []\n",
        "\n",
        "  for i in range(num_iterations):\n",
        "    AL, caches = whole_model_forward(X, parameters)\n",
        "    grads = whole_model_backward(AL, Y, caches)\n",
        "    parameters = updata_parameters(parameters, grads, learning_rate)\n",
        "\n",
        "    if(i % 100 == 0):\n",
        "      cost = compute_cost(AL, Y)\n",
        "      costs.append(cost)\n",
        "    # print status\n",
        "    if print_cost and i%100 == 0:\n",
        "      print(\"Cost objective after %i iteration: %f\" % (i, cost))\n",
        "\n",
        "  return parameters, grads, costs"
      ],
      "execution_count": 13,
      "outputs": []
    },
    {
      "cell_type": "code",
      "metadata": {
        "id": "VeiHPxED35sj",
        "colab_type": "code",
        "colab": {}
      },
      "source": [
        "# build the model\n",
        "def model(model_shape, Train_data, Train_labels, Test_data, Test_labels, num_iterations = 2000, learning_rate = 0.1, print_cost=False):\n",
        "  # initialize parameter w and b\n",
        "  parameters = initialize_parameters(model_shape)\n",
        "\n",
        "  # Gradient descent\n",
        "  parameters, grads, costs = optimize(parameters, Train_data, Train_labels, num_iterations, learning_rate, print_cost)\n",
        "\n",
        "  # get prediction on Test_data & Train_data\n",
        "  Yhat_test, temp_1 = whole_model_forward(Test_data, parameters)\n",
        "  Yhat_train, temp_2 = whole_model_forward(Train_data, parameters)\n",
        "\n",
        "  # Print train/test Errors\n",
        "  print(\"train accuracy: {}\".format(100 - np.mean(np.abs(Yhat_train - Train_labels)) * 100))\n",
        "  print(\"test accuracy: {}\".format(100 - np.mean(np.abs(Yhat_test - Test_labels)) * 100))\n",
        "\n",
        "\n",
        "  # save results\n",
        "  d = {\"costs\": costs,\n",
        "         \"Yhat_test\": Yhat_test, \n",
        "         \"Yhat_train\" : Yhat_train, \n",
        "         \"parameters\": parameters,\n",
        "         \"learning_rate\" : learning_rate,\n",
        "         \"num_iterations\": num_iterations}\n",
        "    \n",
        "  return d"
      ],
      "execution_count": 14,
      "outputs": []
    },
    {
      "cell_type": "code",
      "metadata": {
        "id": "E1uxjg8u7YIS",
        "colab_type": "code",
        "colab": {
          "base_uri": "https://localhost:8080/",
          "height": 122
        },
        "outputId": "9426594c-d49a-44f9-ee81-51ae8d4acdf3"
      },
      "source": [
        "from google.colab import drive\n",
        "drive.mount('/content/drive/')"
      ],
      "execution_count": 15,
      "outputs": [
        {
          "output_type": "stream",
          "text": [
            "Go to this URL in a browser: https://accounts.google.com/o/oauth2/auth?client_id=947318989803-6bn6qk8qdgf4n4g3pfee6491hc0brc4i.apps.googleusercontent.com&redirect_uri=urn%3aietf%3awg%3aoauth%3a2.0%3aoob&response_type=code&scope=email%20https%3a%2f%2fwww.googleapis.com%2fauth%2fdocs.test%20https%3a%2f%2fwww.googleapis.com%2fauth%2fdrive%20https%3a%2f%2fwww.googleapis.com%2fauth%2fdrive.photos.readonly%20https%3a%2f%2fwww.googleapis.com%2fauth%2fpeopleapi.readonly\n",
            "\n",
            "Enter your authorization code:\n",
            "··········\n",
            "Mounted at /content/drive/\n"
          ],
          "name": "stdout"
        }
      ]
    },
    {
      "cell_type": "code",
      "metadata": {
        "id": "i4bkPthq7c2M",
        "colab_type": "code",
        "colab": {
          "base_uri": "https://localhost:8080/",
          "height": 102
        },
        "outputId": "f8dc63d4-1d9e-49c2-eac0-77e67b9fad61"
      },
      "source": [
        "# load training set & test set\n",
        "import os\n",
        "from keras.preprocessing import image\n",
        "\n",
        "base_path = '/content/drive/My Drive/dataset/cats&dogs/small_dataset'\n",
        "train_path = os.path.join(base_path, 'train')\n",
        "test_path = os.path.join(base_path, 'test')\n",
        "\n",
        "def get_data_labels(data_path, num):\n",
        "  data = []\n",
        "  labels = []\n",
        "  i = 0\n",
        "  for ani_name in os.listdir(data_path):\n",
        "    temp_list = os.listdir(os.path.join(data_path, ani_name))\n",
        "\n",
        "    for fn in temp_list[:num]:\n",
        "      labels.append(i)\n",
        "      img = image.load_img(os.path.join(data_path, ani_name, fn), target_size=(64, 64))\n",
        "\n",
        "      x = image.img_to_array(img)\n",
        "      data.append(x)\n",
        "    i += 1\n",
        "  \n",
        "  return data, labels\n",
        "\n",
        "x_train, y_train = get_data_labels(train_path, 256)\n",
        "x_test, y_test = get_data_labels(test_path, 64)\n",
        "x_train = np.array(x_train)\n",
        "y_train = np.array(y_train)\n",
        "x_test = np.array(x_test)\n",
        "y_test = np.array(y_test)\n",
        "\n",
        "print('Traning data shape is: ', x_train.shape)\n",
        "print('Traning labels shape is: ', y_train.shape)\n",
        "print('Test data shape is: ', x_test.shape)\n",
        "print('Test labels shape is: ', y_test.shape)"
      ],
      "execution_count": 16,
      "outputs": [
        {
          "output_type": "stream",
          "text": [
            "Using TensorFlow backend.\n"
          ],
          "name": "stderr"
        },
        {
          "output_type": "stream",
          "text": [
            "Traning data shape is:  (512, 64, 64, 3)\n",
            "Traning labels shape is:  (512,)\n",
            "Test data shape is:  (128, 64, 64, 3)\n",
            "Test labels shape is:  (128,)\n"
          ],
          "name": "stdout"
        }
      ]
    },
    {
      "cell_type": "code",
      "metadata": {
        "id": "YD5aFINi7iXE",
        "colab_type": "code",
        "colab": {
          "base_uri": "https://localhost:8080/",
          "height": 302
        },
        "outputId": "0c6a0515-cf05-4767-8450-233efc7ca35e"
      },
      "source": [
        "import numpy as np\n",
        "import matplotlib.pyplot as plt\n",
        "import h5py\n",
        "import scipy\n",
        "from PIL import Image\n",
        "from scipy import ndimage\n",
        "from tensorflow import keras\n",
        "\n",
        "# Example of a picture\n",
        "index = 200\n",
        "plt.imshow(image.array_to_img(x_train[index]))\n",
        "print (\"y = \", str(y_train[index]))\n",
        "if(y_train[index] == 0): \n",
        "  print('This is a dog')\n",
        "else:\n",
        "  print('This is a cat')"
      ],
      "execution_count": 17,
      "outputs": [
        {
          "output_type": "stream",
          "text": [
            "y =  0\n",
            "This is a dog\n"
          ],
          "name": "stdout"
        },
        {
          "output_type": "display_data",
          "data": {
            "image/png": "[encoded data removed]",
            "text/plain": [
              "<Figure size 432x288 with 1 Axes>"
            ]
          },
          "metadata": {
            "tags": [],
            "needs_background": "light"
          }
        }
      ]
    },
    {
      "cell_type": "code",
      "metadata": {
        "id": "ieV52IHe7qQo",
        "colab_type": "code",
        "colab": {
          "base_uri": "https://localhost:8080/",
          "height": 153
        },
        "outputId": "bf4e676f-dc16-4373-a230-1e04ff0a8f96"
      },
      "source": [
        "# Flatten data and labels\n",
        "m_train = x_train.shape[0]\n",
        "m_test = x_test.shape[0]\n",
        "num_px = x_test.shape[1]\n",
        "\n",
        "data_train = x_train.reshape(x_train.shape[0], -1).T\n",
        "data_test = x_test.reshape(x_test.shape[0], -1).T\n",
        "\n",
        "labels_test = y_test.reshape(1, m_test)\n",
        "labels_train = y_train.reshape(1, m_train)\n",
        "\n",
        "print (\"Number of training examples: m_train = \" + str(m_train))\n",
        "print (\"Number of testing examples: m_test = \" + str(m_test))\n",
        "print (\"Height/Width of each image: num_px = \" + str(num_px))\n",
        "print (\"Each image is of size: (\" + str(num_px) + \", \" + str(num_px) + \", 3)\")\n",
        "print (\"train_set_x shape: \" + str(data_train.shape))\n",
        "print (\"train_set_y shape: \" + str(labels_train.shape))\n",
        "print (\"test_set_x shape: \" + str(data_test.shape))\n",
        "print (\"test_set_y shape: \" + str(labels_test.shape))\n",
        "\n",
        "# rescale input data in (0,1)\n",
        "data_test = data_test/255\n",
        "data_train = data_train/255"
      ],
      "execution_count": 18,
      "outputs": [
        {
          "output_type": "stream",
          "text": [
            "Number of training examples: m_train = 512\n",
            "Number of testing examples: m_test = 128\n",
            "Height/Width of each image: num_px = 64\n",
            "Each image is of size: (64, 64, 3)\n",
            "train_set_x shape: (12288, 512)\n",
            "train_set_y shape: (1, 512)\n",
            "test_set_x shape: (12288, 128)\n",
            "test_set_y shape: (1, 128)\n"
          ],
          "name": "stdout"
        }
      ]
    },
    {
      "cell_type": "code",
      "metadata": {
        "id": "AYoGhjDr83yM",
        "colab_type": "code",
        "colab": {
          "base_uri": "https://localhost:8080/",
          "height": 391
        },
        "outputId": "9215796d-4de8-4d16-8d08-71440e60920c"
      },
      "source": [
        "model_shape = [12288, 1024, 256, 1]\n",
        "d = model(model_shape, data_train, labels_train, data_test, labels_test, num_iterations = 2000, learning_rate = 0.001, print_cost=True)"
      ],
      "execution_count": 19,
      "outputs": [
        {
          "output_type": "stream",
          "text": [
            "Cost objective after 0 iteration: 0.693355\n",
            "Cost objective after 100 iteration: 0.693238\n",
            "Cost objective after 200 iteration: 0.693128\n",
            "Cost objective after 300 iteration: 0.693022\n",
            "Cost objective after 400 iteration: 0.692919\n",
            "Cost objective after 500 iteration: 0.692818\n",
            "Cost objective after 600 iteration: 0.692719\n",
            "Cost objective after 700 iteration: 0.692621\n",
            "Cost objective after 800 iteration: 0.692523\n",
            "Cost objective after 900 iteration: 0.692424\n",
            "Cost objective after 1000 iteration: 0.692324\n",
            "Cost objective after 1100 iteration: 0.692221\n",
            "Cost objective after 1200 iteration: 0.692118\n",
            "Cost objective after 1300 iteration: 0.692011\n",
            "Cost objective after 1400 iteration: 0.691894\n",
            "Cost objective after 1500 iteration: 0.691774\n",
            "Cost objective after 1600 iteration: 0.691651\n",
            "Cost objective after 1700 iteration: 0.691528\n",
            "Cost objective after 1800 iteration: 0.691401\n",
            "Cost objective after 1900 iteration: 0.691272\n",
            "train accuracy: 50.1020993836277\n",
            "test accuracy: 50.023444203658954\n"
          ],
          "name": "stdout"
        }
      ]
    },
    {
      "cell_type": "code",
      "metadata": {
        "id": "HVENVNjz9Jl-",
        "colab_type": "code",
        "colab": {}
      },
      "source": [
        ""
      ],
      "execution_count": null,
      "outputs": []
    }
  ]
}